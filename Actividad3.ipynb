{
  "nbformat": 4,
  "nbformat_minor": 0,
  "metadata": {
    "colab": {
      "name": "Untitled1.ipynb",
      "provenance": [],
      "authorship_tag": "ABX9TyMUBqPKXzB5uZ16GwK2zN2s",
      "include_colab_link": true
    },
    "kernelspec": {
      "name": "python3",
      "display_name": "Python 3"
    },
    "language_info": {
      "name": "python"
    }
  },
  "cells": [
    {
      "cell_type": "markdown",
      "metadata": {
        "id": "view-in-github",
        "colab_type": "text"
      },
      "source": [
        "<a href=\"https://colab.research.google.com/github/WilliamFlores3A/Actividades-IA/blob/main/Actividad3.ipynb\" target=\"_parent\"><img src=\"https://colab.research.google.com/assets/colab-badge.svg\" alt=\"Open In Colab\"/></a>"
      ]
    },
    {
      "cell_type": "code",
      "execution_count": 28,
      "metadata": {
        "id": "KITG1HdygHhB"
      },
      "outputs": [],
      "source": [
        "import pandas as pd\n",
        "import matplotlib.pyplot as plt\n",
        "from sklearn.model_selection import train_test_split\n",
        "from sklearn.linear_model import LinearRegression"
      ]
    },
    {
      "cell_type": "code",
      "source": [
        "dataset = pd.read_csv('salario.csv')"
      ],
      "metadata": {
        "id": "Cyv8KqSVhXIY"
      },
      "execution_count": 30,
      "outputs": []
    },
    {
      "cell_type": "code",
      "source": [
        "dataset.shape"
      ],
      "metadata": {
        "colab": {
          "base_uri": "https://localhost:8080/"
        },
        "id": "D7bxESM7haJW",
        "outputId": "3f9f91a6-cd38-4c6c-e8d9-c6cc32c1e5ff"
      },
      "execution_count": 31,
      "outputs": [
        {
          "output_type": "execute_result",
          "data": {
            "text/plain": [
              "(11, 6)"
            ]
          },
          "metadata": {},
          "execution_count": 31
        }
      ]
    },
    {
      "cell_type": "code",
      "source": [
        "x = dataset.iloc[:,:-2].values\n",
        "y = dataset.iloc[:,1:2].values\n",
        "z = dataset.iloc[:,2:3].values"
      ],
      "metadata": {
        "id": "iw9wMXHOglQH"
      },
      "execution_count": 32,
      "outputs": []
    },
    {
      "cell_type": "code",
      "source": [
        "x_train, x_test, y_train, y_test, z_train, z_test = train_test_split(x, y, z, test_size = 0.2, random_state = 0)\n",
        "x_train"
      ],
      "metadata": {
        "colab": {
          "base_uri": "https://localhost:8080/"
        },
        "id": "ZblFDEk9hmpw",
        "outputId": "7dc44520-d449-4d2a-876e-4581b4433d60"
      },
      "execution_count": 33,
      "outputs": [
        {
          "output_type": "execute_result",
          "data": {
            "text/plain": [
              "array([['Prof', 2, 44, 14],\n",
              "       ['Prof', 2, 50, 24],\n",
              "       ['Prof', 1, 12, 34],\n",
              "       ['Prof', 2, 35, 22],\n",
              "       ['Prof', 1, 45, 50],\n",
              "       ['Prof', 3, 25, 75],\n",
              "       ['Prof', 2, 56, 49],\n",
              "       ['Prof', 1, 26, 50]], dtype=object)"
            ]
          },
          "metadata": {},
          "execution_count": 33
        }
      ]
    },
    {
      "cell_type": "code",
      "source": [
        "regression = LinearRegression()\n",
        "regression.fit(y_train, z_train)"
      ],
      "metadata": {
        "id": "0eKqOnuhih9P",
        "outputId": "6f5c69e9-7d1c-4607-b79c-438f3cb78e03",
        "colab": {
          "base_uri": "https://localhost:8080/"
        }
      },
      "execution_count": 36,
      "outputs": [
        {
          "output_type": "execute_result",
          "data": {
            "text/plain": [
              "LinearRegression()"
            ]
          },
          "metadata": {},
          "execution_count": 36
        }
      ]
    },
    {
      "cell_type": "code",
      "source": [
        "vision_train = plt\n",
        "vision_train.scatter(y_train, z_train, color = 'Green')\n",
        "vision_train.plot(y_train, regression.predict(y_train), color = 'Blue')\n",
        "vision_train.title('Salario VS Pais (Entrenamiento)')\n",
        "vision_train.xlabel('Salario')\n",
        "vision_train.ylabel('Pais')\n",
        "vision_train.show()"
      ],
      "metadata": {
        "colab": {
          "base_uri": "https://localhost:8080/",
          "height": 295
        },
        "id": "XqP__X_JgtL3",
        "outputId": "2bdad331-175f-4183-d375-0bd978511f91"
      },
      "execution_count": 41,
      "outputs": [
        {
          "output_type": "display_data",
          "data": {
            "text/plain": [
              "<Figure size 432x288 with 1 Axes>"
            ],
            "image/png": "[encoded data removed]"
          },
          "metadata": {
            "needs_background": "light"
          }
        }
      ]
    }
  ]
}