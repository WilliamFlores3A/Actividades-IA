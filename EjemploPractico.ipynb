{
  "nbformat": 4,
  "nbformat_minor": 0,
  "metadata": {
    "colab": {
      "name": "EjemploPractico.ipynb",
      "provenance": [],
      "authorship_tag": "ABX9TyNncLn6WDyCxfziNWoSr/AM",
      "include_colab_link": true
    },
    "kernelspec": {
      "name": "python3",
      "display_name": "Python 3"
    },
    "language_info": {
      "name": "python"
    }
  },
  "cells": [
    {
      "cell_type": "markdown",
      "metadata": {
        "id": "view-in-github",
        "colab_type": "text"
      },
      "source": [
        "<a href=\"https://colab.research.google.com/github/WilliamFlores3A/Actividades-IA/blob/main/EjemploPractico.ipynb\" target=\"_parent\"><img src=\"https://colab.research.google.com/assets/colab-badge.svg\" alt=\"Open In Colab\"/></a>"
      ]
    },
    {
      "cell_type": "code",
      "execution_count": 26,
      "metadata": {
        "colab": {
          "base_uri": "https://localhost:8080/"
        },
        "id": "-hzaxJ_h2f6t",
        "outputId": "927d2034-ec62-49ad-92b4-fafa89bb6501"
      },
      "outputs": [
        {
          "output_type": "stream",
          "name": "stdout",
          "text": [
            "dict_keys(['data', 'target', 'frame', 'target_names', 'DESCR', 'feature_names', 'filename', 'data_module'])\n"
          ]
        }
      ],
      "source": [
        "from sklearn import datasets\n",
        "dataset = datasets.load_breast_cancer()\n",
        "print(dataset.keys())"
      ]
    },
    {
      "cell_type": "code",
      "source": [
        "print('caracteristicas del dataset')\n",
        "print(dataset.DESCR)"
      ],
      "metadata": {
        "colab": {
          "base_uri": "https://localhost:8080/"
        },
        "id": "6cm7YGdO8e-A",
        "outputId": "b94883fa-d406-4033-a755-80c934724b34"
      },
      "execution_count": 27,
      "outputs": [
        {
          "output_type": "stream",
          "name": "stdout",
          "text": [
            "caracteristicas del dataset\n",
            ".. _breast_cancer_dataset:\n",
            "\n",
            "Breast cancer wisconsin (diagnostic) dataset\n",
            "--------------------------------------------\n",
            "\n",
            "**Data Set Characteristics:**\n",
            "\n",
            "    :Number of Instances: 569\n",
            "\n",
            "    :Number of Attributes: 30 numeric, predictive attributes and the class\n",
            "\n",
            "    :Attribute Information:\n",
            "        - radius (mean of distances from center to points on the perimeter)\n",
            "        - texture (standard deviation of gray-scale values)\n",
            "        - perimeter\n",
            "        - area\n",
            "        - smoothness (local variation in radius lengths)\n",
            "        - compactness (perimeter^2 / area - 1.0)\n",
            "        - concavity (severity of concave portions of the contour)\n",
            "        - concave points (number of concave portions of the contour)\n",
            "        - symmetry\n",
            "        - fractal dimension (\"coastline approximation\" - 1)\n",
            "\n",
            "        The mean, standard error, and \"worst\" or largest (mean of the three\n",
            "        worst/largest values) of these features were computed for each image,\n",
            "        resulting in 30 features.  For instance, field 0 is Mean Radius, field\n",
            "        10 is Radius SE, field 20 is Worst Radius.\n",
            "\n",
            "        - class:\n",
            "                - WDBC-Malignant\n",
            "                - WDBC-Benign\n",
            "\n",
            "    :Summary Statistics:\n",
            "\n",
            "    ===================================== ====== ======\n",
            "                                           Min    Max\n",
            "    ===================================== ====== ======\n",
            "    radius (mean):                        6.981  28.11\n",
            "    texture (mean):                       9.71   39.28\n",
            "    perimeter (mean):                     43.79  188.5\n",
            "    area (mean):                          143.5  2501.0\n",
            "    smoothness (mean):                    0.053  0.163\n",
            "    compactness (mean):                   0.019  0.345\n",
            "    concavity (mean):                     0.0    0.427\n",
            "    concave points (mean):                0.0    0.201\n",
            "    symmetry (mean):                      0.106  0.304\n",
            "    fractal dimension (mean):             0.05   0.097\n",
            "    radius (standard error):              0.112  2.873\n",
            "    texture (standard error):             0.36   4.885\n",
            "    perimeter (standard error):           0.757  21.98\n",
            "    area (standard error):                6.802  542.2\n",
            "    smoothness (standard error):          0.002  0.031\n",
            "    compactness (standard error):         0.002  0.135\n",
            "    concavity (standard error):           0.0    0.396\n",
            "    concave points (standard error):      0.0    0.053\n",
            "    symmetry (standard error):            0.008  0.079\n",
            "    fractal dimension (standard error):   0.001  0.03\n",
            "    radius (worst):                       7.93   36.04\n",
            "    texture (worst):                      12.02  49.54\n",
            "    perimeter (worst):                    50.41  251.2\n",
            "    area (worst):                         185.2  4254.0\n",
            "    smoothness (worst):                   0.071  0.223\n",
            "    compactness (worst):                  0.027  1.058\n",
            "    concavity (worst):                    0.0    1.252\n",
            "    concave points (worst):               0.0    0.291\n",
            "    symmetry (worst):                     0.156  0.664\n",
            "    fractal dimension (worst):            0.055  0.208\n",
            "    ===================================== ====== ======\n",
            "\n",
            "    :Missing Attribute Values: None\n",
            "\n",
            "    :Class Distribution: 212 - Malignant, 357 - Benign\n",
            "\n",
            "    :Creator:  Dr. William H. Wolberg, W. Nick Street, Olvi L. Mangasarian\n",
            "\n",
            "    :Donor: Nick Street\n",
            "\n",
            "    :Date: November, 1995\n",
            "\n",
            "This is a copy of UCI ML Breast Cancer Wisconsin (Diagnostic) datasets.\n",
            "https://goo.gl/U2Uwz2\n",
            "\n",
            "Features are computed from a digitized image of a fine needle\n",
            "aspirate (FNA) of a breast mass.  They describe\n",
            "characteristics of the cell nuclei present in the image.\n",
            "\n",
            "Separating plane described above was obtained using\n",
            "Multisurface Method-Tree (MSM-T) [K. P. Bennett, \"Decision Tree\n",
            "Construction Via Linear Programming.\" Proceedings of the 4th\n",
            "Midwest Artificial Intelligence and Cognitive Science Society,\n",
            "pp. 97-101, 1992], a classification method which uses linear\n",
            "programming to construct a decision tree.  Relevant features\n",
            "were selected using an exhaustive search in the space of 1-4\n",
            "features and 1-3 separating planes.\n",
            "\n",
            "The actual linear program used to obtain the separating plane\n",
            "in the 3-dimensional space is that described in:\n",
            "[K. P. Bennett and O. L. Mangasarian: \"Robust Linear\n",
            "Programming Discrimination of Two Linearly Inseparable Sets\",\n",
            "Optimization Methods and Software 1, 1992, 23-34].\n",
            "\n",
            "This database is also available through the UW CS ftp server:\n",
            "\n",
            "ftp ftp.cs.wisc.edu\n",
            "cd math-prog/cpo-dataset/machine-learn/WDBC/\n",
            "\n",
            ".. topic:: References\n",
            "\n",
            "   - W.N. Street, W.H. Wolberg and O.L. Mangasarian. Nuclear feature extraction \n",
            "     for breast tumor diagnosis. IS&T/SPIE 1993 International Symposium on \n",
            "     Electronic Imaging: Science and Technology, volume 1905, pages 861-870,\n",
            "     San Jose, CA, 1993.\n",
            "   - O.L. Mangasarian, W.N. Street and W.H. Wolberg. Breast cancer diagnosis and \n",
            "     prognosis via linear programming. Operations Research, 43(4), pages 570-577, \n",
            "     July-August 1995.\n",
            "   - W.H. Wolberg, W.N. Street, and O.L. Mangasarian. Machine learning techniques\n",
            "     to diagnose breast cancer from fine-needle aspirates. Cancer Letters 77 (1994) \n",
            "     163-171.\n"
          ]
        }
      ]
    },
    {
      "cell_type": "code",
      "source": [
        " #seleccionamos todas las columnas\n",
        " X = dataset.data\n",
        " #Defino los datos correspondientes a las etiquetas\n",
        " y = dataset.target\n",
        "\n",
        " #IMPLEMENTACION DE LA REGRESION LOGISTICA\n",
        " from sklearn.model_selection import train_test_split\n",
        "\n",
        " #separo los datos de entrenamiento y prueba\n",
        " X_train, X_test, y_train, y_test = train_test_split(X, y, test_size=0.2)\n",
        " \n",
        " #escalo los datos\n",
        " from sklearn.preprocessing import StandardScaler\n",
        " escalar = StandardScaler()\n",
        " X_train = escalar.fit_transform(X_train)\n",
        " X_test = escalar.transform(X_test)\n",
        "\n",
        " #Defino el algoritmo a utilizar\n",
        " from sklearn.linear_model import LogisticRegression\n",
        " algoritmo = LogisticRegression()\n",
        "\n",
        " #Entreno el modelo\n",
        " algoritmo.fit(X_train, y_train)\n",
        "\n",
        " #Realizo una prediccion\n",
        " y_pred = algoritmo.predict(X_test)\n",
        "\n",
        " #verifico la matriz de confusion\n",
        " from sklearn.metrics import confusion_matrix\n",
        " matriz = confusion_matrix(y_test, y_pred)\n",
        " print('Matriz de Confusion:')\n",
        " print(matriz)\n",
        "\n",
        " #Calculo la precision del modelo\n",
        " from sklearn.metrics import precision_score\n",
        " \n",
        " precision = precision_score(y_test, y_pred)\n",
        " print('Precision dle modelo:')\n",
        " print(precision)\n",
        "\n",
        " #calculo de exactitud\n",
        " from sklearn.metrics import accuracy_score\n",
        " exactitud = accuracy_score(y_test, y_pred)\n",
        " print(exactitud)\n",
        "\n",
        " #Calculo de la sensibilidad del modelo\n",
        " from sklearn.metrics import recall_score\n",
        " sensibilidad = recall_score(y_test, y_pred)\n",
        " print('Sensibilidad del modelo:')\n",
        " print(sensibilidad)\n",
        "\n",
        " #Calculo del puntaje Fi del modelo\n",
        " from sklearn.metrics import f1_score\n",
        " puntajef1 = f1_score(y_test, y_pred)\n",
        " print('Puntaje f1 del modelo:')\n",
        " print(puntajef1)\n",
        "\n",
        " #Calculo la curva ROC - AUC del modelo\n",
        " from sklearn.metrics import roc_auc_score\n",
        " roc_auc = roc_auc_score(y_test, y_pred)\n",
        " print('Curva ROC - AUC del modelo:')\n",
        " print(roc_auc)"
      ],
      "metadata": {
        "colab": {
          "base_uri": "https://localhost:8080/"
        },
        "id": "2Y8WOfZ_4CmB",
        "outputId": "fced04fe-52b9-4f3b-8d45-e32fbb3267ee"
      },
      "execution_count": 36,
      "outputs": [
        {
          "output_type": "stream",
          "name": "stdout",
          "text": [
            "Matriz de Confusion:\n",
            "[[50  2]\n",
            " [ 0 62]]\n",
            "Precision dle modelo:\n",
            "0.96875\n",
            "0.9824561403508771\n",
            "Sensibilidad del modelo:\n",
            "1.0\n",
            "Puntaje f1 del modelo:\n",
            "0.9841269841269841\n",
            "Curva ROC - AUC del modelo:\n",
            "0.9807692307692308\n"
          ]
        }
      ]
    }
  ]
}