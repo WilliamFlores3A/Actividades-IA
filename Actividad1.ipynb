{
  "nbformat": 4,
  "nbformat_minor": 0,
  "metadata": {
    "colab": {
      "name": "Actividad1.ipynb",
      "provenance": [],
      "authorship_tag": "ABX9TyOldD7GgFDCrZRMCTV9vrJj",
      "include_colab_link": true
    },
    "kernelspec": {
      "name": "python3",
      "display_name": "Python 3"
    },
    "language_info": {
      "name": "python"
    }
  },
  "cells": [
    {
      "cell_type": "markdown",
      "metadata": {
        "id": "view-in-github",
        "colab_type": "text"
      },
      "source": [
        "<a href=\"https://colab.research.google.com/github/WilliamFlores3A/Actividades-IA/blob/main/Actividad1.ipynb\" target=\"_parent\"><img src=\"https://colab.research.google.com/assets/colab-badge.svg\" alt=\"Open In Colab\"/></a>"
      ]
    },
    {
      "cell_type": "code",
      "execution_count": null,
      "metadata": {
        "colab": {
          "base_uri": "https://localhost:8080/"
        },
        "id": "h2_4IPPsWHza",
        "outputId": "8c6d6ae3-1f58-4e99-9312-e83a22885974"
      },
      "outputs": [
        {
          "output_type": "stream",
          "name": "stdout",
          "text": [
            "Tiene 4 dimensiones\n"
          ]
        }
      ],
      "source": [
        "import numpy as np\n",
        "\n",
        "varType = [('nombre', 'S10'), ('edad', int)]\n",
        "data = [('Andres', 12), ('William', 18), ('Nahomi', 21), ('Joss', 22), ('Cristina', 20),('Domenica', 13), ('Levandosky', 35),('Messi', 34)]\n",
        "users = np.array([[[data, data]], [[data, data]]], dtype = varType)\n",
        "print (\"Tiene {} dimensiones\".format(users.ndim))"
      ]
    },
    {
      "cell_type": "code",
      "source": [
        "np.sort(users, order = 'edad')"
      ],
      "metadata": {
        "colab": {
          "base_uri": "https://localhost:8080/"
        },
        "id": "UTQ2j2pnpaAL",
        "outputId": "cf843359-5ef6-4eed-a19f-8ad366876cc8"
      },
      "execution_count": null,
      "outputs": [
        {
          "output_type": "execute_result",
          "data": {
            "text/plain": [
              "array([[[[(b'Andres', 12), (b'Domenica', 13), (b'William', 18),\n",
              "          (b'Cristina', 20), (b'Nahomi', 21), (b'Joss', 22),\n",
              "          (b'Messi', 34), (b'Levandosky', 35)],\n",
              "         [(b'Andres', 12), (b'Domenica', 13), (b'William', 18),\n",
              "          (b'Cristina', 20), (b'Nahomi', 21), (b'Joss', 22),\n",
              "          (b'Messi', 34), (b'Levandosky', 35)]]],\n",
              "\n",
              "\n",
              "       [[[(b'Andres', 12), (b'Domenica', 13), (b'William', 18),\n",
              "          (b'Cristina', 20), (b'Nahomi', 21), (b'Joss', 22),\n",
              "          (b'Messi', 34), (b'Levandosky', 35)],\n",
              "         [(b'Andres', 12), (b'Domenica', 13), (b'William', 18),\n",
              "          (b'Cristina', 20), (b'Nahomi', 21), (b'Joss', 22),\n",
              "          (b'Messi', 34), (b'Levandosky', 35)]]]],\n",
              "      dtype=[('nombre', 'S10'), ('edad', '<i8')])"
            ]
          },
          "metadata": {},
          "execution_count": 2
        }
      ]
    }
  ]
}